{
 "cells": [
  {
   "cell_type": "code",
   "execution_count": 1,
   "metadata": {},
   "outputs": [],
   "source": [
    "# import data and store in arrays\n",
    "\n",
    "import csv\n",
    "\n",
    "noga_str = './data/data_no_ga.csv'\n",
    "ga_str = './data/data_ga.csv'\n",
    "\n",
    "noga_file = open(noga_str)\n",
    "csv_noga = csv.reader(noga_file)\n",
    "ga_file = open(ga_str)\n",
    "csv_ga = csv.reader(ga_file)\n",
    "\n",
    "noga = []\n",
    "\n",
    "for row in csv_noga:\n",
    "    if (row[0] != ' '):\n",
    "        noga.insert(len(noga), [row[0], row[3]])\n",
    "        \n",
    "noga = noga[1:len(noga)]\n",
    "        \n",
    "ga = []\n",
    "\n",
    "for row in csv_ga:\n",
    "    if (row[0] != ' '):\n",
    "        ga.insert(len(ga), [row[0], row[3]])\n",
    "        \n",
    "ga = ga[1:len(ga)]"
   ]
  },
  {
   "cell_type": "code",
   "execution_count": 2,
   "metadata": {},
   "outputs": [],
   "source": [
    "# put data into separate arrays for each subject\n",
    "\n",
    "noga_data = [['1'], ['2'], ['3'], ['4'], ['5'], ['6'], ['7'], ['8'], ['9'], ['10'], ['11']]\n",
    "\n",
    "for i in range(0, len(noga_data)):\n",
    "    for j in range(0, len(noga)):\n",
    "        if (noga_data[i][0] == noga[j][0]):\n",
    "            noga_data[i].insert(len(noga_data[i]), int(noga[j][1]))\n",
    "            \n",
    "ga_data = [['1'], ['2'], ['3'], ['4'], ['5'], ['6'], ['7'], ['8'], ['9'], ['10'], ['11']]\n",
    "\n",
    "for i in range(0, len(ga_data)):\n",
    "    for j in range(0, len(ga)):\n",
    "        if (ga_data[i][0] == ga[j][0]):\n",
    "            ga_data[i].insert(len(ga_data[i]), int(ga[j][1]))"
   ]
  },
  {
   "cell_type": "code",
   "execution_count": 3,
   "metadata": {},
   "outputs": [
    {
     "name": "stdout",
     "output_type": "stream",
     "text": [
      "p 8.597882560241366e-40\n",
      "alpha 0.05\n",
      "P-value ≤ α: The differences between some of the means are statistically significant\n"
     ]
    }
   ],
   "source": [
    "# ANOVA\n",
    "#\n",
    "# ANOVA is a form of statistical hypothesis testing heavily used in the analysis of experimental data.\n",
    "# A test result (calculated from the null hypothesis and the sample) is called statistically significant\n",
    "# if it is deemed unlikely to have occurred by chance, assuming the truth of the null hypothesis.\n",
    "# A statistically significant result, when a probability (p-value) is less than a pre-specified threshold\n",
    "# (significance level), justifies the rejection of the null hypothesis, but only if the a priori probability\n",
    "# of the null hypothesis is not high.\n",
    "#\n",
    "# In the typical application of ANOVA, the null hypothesis is that all groups are random samples from the same population.\n",
    "#\n",
    "# The fixed-effects model (class I) of analysis of variance applies to situations in which the experimenter\n",
    "# applies one or more treatments to the subjects of the experiment to see whether the response variable values\n",
    "# change. This allows the experimenter to estimate the ranges of response variable values that the treatment would\n",
    "# generate in the population as a whole.\n",
    "#\n",
    "# (Wikipedia)\n",
    "\n",
    "from scipy import stats\n",
    " \n",
    "alpha = 0.05 # significance level\n",
    "F, p = stats.f_oneway(noga_data[0][1:len(noga_data[0])], ga_data[0][1:len(ga_data[0])-1])\n",
    "\n",
    "print('p', p)\n",
    "print('alpha', alpha)\n",
    "\n",
    "if (p <= alpha):\n",
    "    print('P-value ≤ α: The differences between some of the means are statistically significant')\n",
    "elif (p > alpha):\n",
    "    print('P-value > α: The differences between the means are not statistically significant')\n",
    "      \n",
    "# It is unlikely that the results have occurred by chance."
   ]
  },
  {
   "cell_type": "code",
   "execution_count": 29,
   "metadata": {},
   "outputs": [
    {
     "data": {
      "text/plain": [
       "<matplotlib.axes._subplots.AxesSubplot at 0x22d6bc2c128>"
      ]
     },
     "execution_count": 29,
     "metadata": {},
     "output_type": "execute_result"
    },
    {
     "data": {
      "image/png": "[encoded data removed]",
      "text/plain": [
       "<Figure size 432x288 with 1 Axes>"
      ]
     },
     "metadata": {},
     "output_type": "display_data"
    }
   ],
   "source": [
    "# If your entire model is statistically significant, that's great news!\n",
    "# However, be sure to check the residual plots so you can trust the results!\n",
    "\n",
    "import numpy as np\n",
    "import seaborn as sns\n",
    "sns.set(style=\"whitegrid\")\n",
    "\n",
    "x = noga_data[0][1:len(noga_data[0])]\n",
    "y = ga_data[0][1:len(ga_data[0])-1]\n",
    "\n",
    "# Plot the residuals after fitting a linear model\n",
    "sns.residplot(x, y)"
   ]
  },
  {
   "cell_type": "code",
   "execution_count": 40,
   "metadata": {},
   "outputs": [
    {
     "name": "stdout",
     "output_type": "stream",
     "text": [
      "mean 5.679245283018868\n",
      "stdev 1.7516320401453784\n",
      "pvalue 1.8782525897929326e-29\n",
      "P-value ≤ α: The differences between some of the means are statistically significant\n"
     ]
    }
   ],
   "source": [
    "# Paired T-test\n",
    "\n",
    "# The paired sample t-test, sometimes called the dependent sample t-test, is a statistical procedure\n",
    "# used to determine whether the mean difference between two sets of observations is zero. In a paired\n",
    "# sample t-test, each subject or entity is measured twice, resulting in pairs of observations. Common\n",
    "# applications of the paired sample t-test include case-control studies or repeated-measures designs.\n",
    "# Suppose you are interested in evaluating the effectiveness of a company training program. One approach\n",
    "# you might consider would be to measure the performance of a sample of employees before and after\n",
    "# completing the program, and analyze the differences using a paired sample t-test.\n",
    "# https://www.statisticssolutions.com/manova-analysis-paired-sample-t-test/\n",
    "\n",
    "import statistics as st\n",
    "import scipy.stats as stats\n",
    "\n",
    "x = noga_data[0][1:len(noga_data[0])]\n",
    "y = ga_data[0][1:len(ga_data[0])-1]\n",
    "difference = []\n",
    "\n",
    "for i in range (0, len(x)):\n",
    "    difference.append(x[i] - y[i])\n",
    "    \n",
    "mean = st.mean(difference)\n",
    "stdev = st.stdev(difference)\n",
    "pairedt, pvalue = stats.ttest_rel(x, y)\n",
    "\n",
    "print('mean', mean)\n",
    "print('stdev', stdev)\n",
    "print('pvalue', pvalue)\n",
    "\n",
    "if (pvalue <= alpha):\n",
    "    print('P-value ≤ α: The differences between some of the means are statistically significant')\n",
    "elif (pvalue > alpha):\n",
    "    print('P-value > α: The differences between the means are not statistically significant')\n",
    "    \n",
    "# The difference between the values before and the values after the experiment is carried out are statistically significant."
   ]
  },
  {
   "cell_type": "code",
   "execution_count": 7,
   "metadata": {},
   "outputs": [
    {
     "data": {
      "image/png": "[encoded data removed]",
      "text/plain": [
       "<Figure size 432x288 with 1 Axes>"
      ]
     },
     "metadata": {
      "needs_background": "light"
     },
     "output_type": "display_data"
    }
   ],
   "source": [
    "# Graphs\n",
    "\n",
    "from scipy import stats\n",
    "import matplotlib.pyplot as plt\n",
    "\n",
    "plt.plot(noga_data[0][1:len(noga_data[0])])\n",
    "plt.plot(ga_data[0][1:len(ga_data[0])])\n",
    "plt.show()"
   ]
  }
 ],
 "metadata": {
  "kernelspec": {
   "display_name": "Python 3",
   "language": "python",
   "name": "python3"
  },
  "language_info": {
   "codemirror_mode": {
    "name": "ipython",
    "version": 3
   },
   "file_extension": ".py",
   "mimetype": "text/x-python",
   "name": "python",
   "nbconvert_exporter": "python",
   "pygments_lexer": "ipython3",
   "version": "3.7.1"
  }
 },
 "nbformat": 4,
 "nbformat_minor": 2
}
